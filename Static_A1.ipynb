{
 "cells": [
  {
   "cell_type": "markdown",
   "id": "5b400d2c-6ca8-4175-b6b6-a0eca585bf39",
   "metadata": {},
   "source": [
    "Question1: Define the z-statistic and explain its relationship to the standard normal distribution. How is the\n",
    "z-statistic used in hypothesis testing?"
   ]
  },
  {
   "cell_type": "markdown",
   "id": "9d04a270-e287-4dad-9ccc-55cf40f652bd",
   "metadata": {},
   "source": [
    "The z-statistic is closely related to the standard normal distribution, which is a normal distribution with a mean of 0 and a standard deviation of 1. When data is transformed into z-scores, it allows for comparison across different datasets or distributions by standardizing the values. The standard normal distribution is represented by the probability density function:"
   ]
  },
  {
   "cell_type": "markdown",
   "id": "0984e120-827a-4d09-a18a-3c1a8a4ed74b",
   "metadata": {},
   "source": [
    "Use in Hypothesis Testing\n",
    "In hypothesis testing, the z-statistic is used to determine whether to reject the null hypothesis ((H_0)). The process typically involves the following steps:\n",
    "\n",
    "Formulate Hypotheses: Define the null hypothesis ((H_0)) and the alternative hypothesis ((H_a)).\n",
    "\n",
    "Select Significance Level: Choose a significance level ((\\alpha)), commonly set at 0.05 or 0.01.\n",
    "\n",
    "Calculate the z-statistic: Using the sample data, calculate the z-statistic to determine how far the sample mean is from the population mean under the null hypothesis.\n",
    "\n",
    "Determine the Critical Value: Based on the significance level and the type of test (one-tailed or two-tailed), find the critical z-value(s) from the standard normal distribution.\n",
    "\n",
    "Make a Decision:\n",
    "\n",
    "If the calculated z-statistic falls into the critical region (beyond the critical value), reject the null hypothesis.\n",
    "If the z-statistic does not fall into the critical region, do not reject the null hypothesis.\n",
    "Conclusion: Draw a conclusion based on the results of the hypothesis test."
   ]
  },
  {
   "cell_type": "markdown",
   "id": "7f5434e5-c126-4158-9c8b-77da4adbc7d7",
   "metadata": {},
   "source": [
    "Question2 : What is a p-value, and how is it used in hypothesis testing? What does it mean if the p-value is\n",
    "very small (e.g., 0.01)?"
   ]
  },
  {
   "cell_type": "markdown",
   "id": "c61d08d7-d589-4711-be0a-0542f85440eb",
   "metadata": {},
   "source": [
    "A p-value (probability value) is a statistical measure that helps researchers determine the significance of their results in hypothesis testing. It quantifies the probability of observing the test results, or something more extreme, assuming that the null hypothesis ((H_0)) is true."
   ]
  },
  {
   "cell_type": "markdown",
   "id": "3cb81397-0141-424e-8bb9-8a96944b4500",
   "metadata": {},
   "source": [
    "How p-value is Used in Hypothesis Testing\n",
    "Formulate Hypotheses: As with any hypothesis test, you start by defining the null hypothesis ((H_0)) and the alternative hypothesis ((H_a)).\n",
    "\n",
    "Conduct the Test: Perform the statistical test (e.g., z-test, t-test) to calculate the test statistic based on the sample data.\n",
    "\n",
    "Calculate the p-value: The p-value is computed based on the test statistic. It represents the probability of obtaining a result at least as extreme as the one observed, under the assumption that the null hypothesis is true.\n",
    "\n",
    "Compare p-value to Significance Level: The p-value is then compared to a predetermined significance level ((\\alpha)), commonly set at 0.05 or 0.01:\n",
    "\n",
    "If the p-value is less than or equal to (\\alpha), you reject the null hypothesis ((H_0)).\n",
    "If the p-value is greater than (\\alpha), you do not reject the null hypothesis.\n",
    "Draw Conclusions: Based on the comparison, you can conclude whether there is sufficient evidence to support the alternative hypothesis ((H_a))."
   ]
  },
  {
   "cell_type": "markdown",
   "id": "fe848b93-808e-41c2-aebb-dd73fa0114c6",
   "metadata": {},
   "source": [
    "Interpretation of a Very Small p-value (e.g., 0.01)\n",
    "A very small p-value, such as 0.01, indicates strong evidence against the null hypothesis. Specifically, it means that there is only a 1% probability of observing the data (or something more extreme) if the null hypothesis is true. Here’s what it implies:"
   ]
  },
  {
   "cell_type": "markdown",
   "id": "6239b53d-3bb7-4bf6-b928-ba95c9e5c958",
   "metadata": {},
   "source": [
    "Question3: Compare and contrast the binomial and Bernoulli distributions. "
   ]
  },
  {
   "cell_type": "markdown",
   "id": "378e1ad8-4e61-4107-b141-8248ef6390f3",
   "metadata": {},
   "source": [
    "Bernoulli Distribution\n",
    "\n",
    "Definition: \n",
    "\n",
    "The Bernoulli distribution models a single trial (experiment) that has two possible outcomes: success (usually coded as 1) and failure (usually coded as 0).\n",
    "\n",
    "Parameters:\n",
    "\n",
    "It has one parameter, (p), which represents the probability of success. The probability of failure is (1 - p).\n",
    "\n",
    "Probability Mass Function (PMF):\n",
    "\n",
    "The PMF of a Bernoulli distribution is given by: [ P(X = k) = p^k (1 - p)^{1 - k} \\quad \\text{for } k = 0, 1 ] where (k) is the outcome (0 for failure, 1 for success).\n",
    "\n",
    "Mean and Variance:\n",
    "\n",
    "\n",
    "Mean: (E[X] = p)\n",
    "Variance: (Var(X) = p(1 - p))\n",
    "Use Case:\n",
    "\n",
    "The Bernoulli distribution is used when modeling a single trial or experiment, such as flipping a coin once or determining whether a specific event occurs."
   ]
  },
  {
   "cell_type": "markdown",
   "id": "1a336d5f-cbe0-4f91-8736-86bacba0861e",
   "metadata": {},
   "source": [
    "Binomial Distribution\n",
    "\n",
    "\n",
    "Definition: \n",
    "\n",
    "The binomial distribution models the number of successes in a fixed number of independent Bernoulli trials (experiments), each with the same probability of success.\n",
    "\n",
    "Parameters:\n",
    "\n",
    "It has two parameters: (n) (the number of trials) and (p) (the probability of success in each trial).\n",
    "\n",
    "Probability Mass Function (PMF):\n",
    "\n",
    "The PMF of a binomial distribution is given by: \n",
    "\n",
    "[ P(X = k) = \\binom{n}{k} p^k (1 - p)^{n - k} \\quad \\text{for } k = 0, 1, 2, \\ldots, n ] where (\\binom{n}{k}) is the binomial coefficient, representing the number of ways to choose (k) successes in (n) trials.\n",
    "\n",
    "Mean and Variance:\n",
    "\n",
    "Mean: (E[X] = np)\n",
    "Variance: (Var(X) = np(1 - p))\n",
    "Use Case: \n",
    "\n",
    "The binomial distribution is used when modeling the number of successes in multiple trials, such as counting the number of heads in 10 coin flips or the number of defective items in a batch of products."
   ]
  },
  {
   "cell_type": "markdown",
   "id": "04e98d59-018f-430c-9541-1e31dcd193c2",
   "metadata": {},
   "source": [
    "Question 4: Under what conditions is the binomial distribution used, and how does it relate to the Bernoulli\n",
    "distribution?"
   ]
  },
  {
   "cell_type": "markdown",
   "id": "89ab2ded-7433-4b1a-ad57-30116cc25e95",
   "metadata": {},
   "source": [
    "The binomial distribution is used under specific conditions that define the nature of the trials being conducted. Here are the key conditions for using the binomial distribution:\n",
    "\n",
    "\n",
    "Conditions for Using the Binomial Distribution\n",
    "\n",
    "1.Fixed Number of Trials: The number of trials, denoted as (n), must be fixed in advance. For example, you might decide to flip a coin 10 times.\n",
    "\n",
    "2.Two Possible Outcomes: Each trial must have only two possible outcomes, typically referred to as \"success\" and \"failure.\" For instance, in a coin flip, the outcomes could be heads (success) and tails (failure).\n",
    "\n",
    "3.Constant Probability of Success: The probability of success, denoted as (p), must remain constant for each trial. This means that the likelihood of success does not change from one trial to the next.\n",
    "\n",
    "4.Independent Trials: The trials must be independent of one another. The outcome of one trial should not affect the outcome of another. For example, flipping a coin does not influence the result of subsequent flips."
   ]
  },
  {
   "cell_type": "markdown",
   "id": "597292d2-e175-47e9-9ceb-9ce92abdfaf6",
   "metadata": {},
   "source": [
    "Relationship to the Bernoulli Distribution\n",
    "\n",
    "The binomial distribution is directly related to the Bernoulli distribution in the following ways:\n",
    "\n",
    "\n",
    "1.Special Case: The Bernoulli distribution can be considered a special case of the binomial distribution where the number of trials (n = 1). In this case, the Bernoulli distribution models a single trial with two outcomes.\n",
    "\n",
    "2.Single Trial vs. Multiple Trials: While the Bernoulli distribution focuses on a single trial (e.g., flipping a coin once), the binomial distribution extends this concept to multiple trials (e.g., flipping a coin multiple times and counting the number of heads).\n",
    "\n",
    "3.Parameter Relationship: Both distributions share the same parameter (p), which represents the probability of success. In the binomial distribution, this parameter is used in conjunction with the number of trials (n) to determine the probability of obtaining a certain number of successes."
   ]
  },
  {
   "cell_type": "markdown",
   "id": "700f1da5-5b9b-4db5-a427-bd063e75b28a",
   "metadata": {},
   "source": [
    "Question5: What are the key properties of the Poisson distribution, and when is it appropriate to use this\n",
    "distribution?"
   ]
  },
  {
   "cell_type": "markdown",
   "id": "38832860-4917-4c4b-aa8e-c4bff86255d7",
   "metadata": {},
   "source": [
    "Key Properties of the Poisson Distribution\n",
    "\n",
    "1.Discrete Distribution: The Poisson distribution is used for counting the number of events in a given interval, making it a discrete distribution.\n",
    "\n",
    "2.Parameter: The Poisson distribution is characterized by a single parameter, (\\lambda) (lambda), which represents the average rate (mean) of occurrence of the events in the specified interval. This parameter is both the mean and the variance of the distribution:\n",
    "\n",
    "Mean: (E[X] = \\lambda)\n",
    "Variance: (Var(X) = \\lambda)\n",
    "\n",
    "3.Probability Mass Function (PMF): The probability of observing (k) events in a given interval is given by the PMF: [ P(X = k) = \\frac{\\lambda^k e^{-\\lambda}}{k!} ] where (k = 0, 1, 2, \\ldots) and (e) is the base of the natural logarithm (approximately equal to 2.71828).\n",
    "\n",
    "3.Memoryless Property: The Poisson distribution does not have a memoryless property like the exponential distribution, but it does imply that the number of events in non-overlapping intervals is independent.\n",
    "\n",
    "4.Skewness: The Poisson distribution is positively skewed, especially for small values of (\\lambda). As (\\lambda) increases, the distribution becomes more symmetric and approaches a normal distribution."
   ]
  },
  {
   "cell_type": "markdown",
   "id": "3773f192-2420-48ca-840b-34b8d9861c30",
   "metadata": {},
   "source": [
    "When to Use the Poisson Distribution\n",
    "\n",
    "The Poisson distribution is appropriate under the following conditions:\n",
    "\n",
    "\n",
    "1.Events Occur Independently: The events being counted must occur independently of one another. The occurrence of one event does not affect the probability of another event occurring.\n",
    "\n",
    "\n",
    "2.Constant Average Rate: The average rate of occurrence ((\\lambda)) must be constant over the interval of interest. This means that the expected number of events in any equal-length interval is the same.\n",
    "\n",
    "\n",
    "3.Discrete Events: The Poisson distribution is used for counting the number of events, which are discrete occurrences. Examples include counting the number of phone calls received at a call center in an hour or the number of emails received in a day."
   ]
  },
  {
   "cell_type": "markdown",
   "id": "825f02d9-d217-489e-bc7b-1927eeacb0d8",
   "metadata": {},
   "source": [
    "Question6: Define the terms \"probability distribution\" and \"probability density function\" (PDF). How does a\n",
    "PDF differ from a probability mass function (PMF)?"
   ]
  },
  {
   "cell_type": "markdown",
   "id": "57c08d91-1b42-4623-b2ad-d5c46f7ddf45",
   "metadata": {},
   "source": [
    "Probability Distribution>>\n",
    "\n",
    "A probability distribution is a mathematical function that describes the likelihood of different outcomes in a random experiment. It provides a complete description of the probabilities associated with all possible values of a random variable. Probability distributions can be classified into two main types:\n",
    "\n",
    "\n",
    "1>Discrete Probability Distribution: Used for discrete random variables, which can take on a countable number of values. Examples include the binomial distribution and the Poisson distribution.\n",
    "\n",
    "\n",
    "2>Continuous Probability Distribution: Used for continuous random variables, which can take on an infinite number of values within a given range. Examples include the normal distribution and the exponential distribution."
   ]
  },
  {
   "cell_type": "markdown",
   "id": "a4e833e6-4eac-42c6-a529-fdef08682082",
   "metadata": {},
   "source": [
    "#1>>Probability Density Function (PDF)\n",
    "\n",
    "A probability density function (PDF) is a specific type of function used to describe the probability distribution of a continuous random variable. The PDF provides a way to calculate the probability that a continuous random variable falls within a particular range of values. The key characteristics of a PDF include:\n",
    "\n",
    "\n",
    "1.Non-Negative: The PDF is always non-negative for all values of the random variable.\n",
    "\n",
    "2.Area Under the Curve: The total area under the PDF curve over the entire range of possible values is equal to 1. This represents the total probability of all possible outcomes.\n",
    "\n",
    "3.Probability Calculation: The probability that a continuous random variable (X) falls within a specific interval ([a, b]) is given by the integral of the PDF over that interval: [ P(a \\leq X \\leq b) = \\int_{a}^{b} f(x) , dx ] where (f(x)) is the PDF."
   ]
  },
  {
   "cell_type": "markdown",
   "id": "9b4e174e-8d90-452b-9c5f-41b02fa900a1",
   "metadata": {},
   "source": [
    "#2>>Probability Mass Function (PMF)\n",
    "\n",
    "A probability mass function (PMF) is a function that describes the probability distribution of a discrete random variable. The PMF provides the probability that a discrete random variable takes on a specific value. Key characteristics of a PMF include:\n",
    "\n",
    "\n",
    "1.Non-Negative: The PMF is always non-negative for all possible values of the random variable.\n",
    "\n",
    "2.Sum of Probabilities: The sum of the probabilities for all possible values of the discrete random variable is equal to 1: [ \\sum_{x} P(X = x) = 1 ]\n",
    "\n",
    "3.Probability Calculation: The PMF gives the probability of the random variable taking on a specific value: [ P(X = k) = p(k) ] where (p(k)) is the PMF evaluated at the value (k).\n",
    "\n"
   ]
  },
  {
   "cell_type": "markdown",
   "id": "3741a4f6-3e5a-49d8-8230-755fc99f1b03",
   "metadata": {},
   "source": [
    "Question7: Explain the Central Limit Theorem (CLT) with example."
   ]
  },
  {
   "cell_type": "markdown",
   "id": "e0902457-774c-4656-b8b9-2fed2e8a55a0",
   "metadata": {},
   "source": [
    "The Central Limit Theorem (CLT) is a fundamental statistical principle that states that the distribution of the sample means (or sums) of a sufficiently large number of independent and identically distributed (i.i.d.) random variables will tend to be normally distributed, regardless of the original distribution of the population from which the samples are drawn. This theorem is crucial because it allows for the use of normal distribution techniques in inferential statistics, even when the underlying data is not normally distributed."
   ]
  },
  {
   "cell_type": "markdown",
   "id": "4ba86ac1-e355-4307-b4d3-fe3e7fe6ca77",
   "metadata": {},
   "source": [
    "Key Points of the Central Limit Theorem\n",
    "\n",
    "1>>Independence: The random variables must be independent of each other.\n",
    "\n",
    "2>>Identically Distributed: The random variables must be drawn from the same probability distribution.\n",
    "\n",
    "3>>Sample Size: As the sample size (n) increases, the distribution of the sample means approaches a normal distribution. A common rule of thumb is that a sample size of (n \\geq 30) is often sufficient for the CLT to hold, although this can vary depending on the original distribution.\n",
    "\n",
    "4>>Mean and Variance: The mean of the sampling distribution of the sample means will be equal to the mean of the population ((\\mu)), and the variance of the sampling distribution will be equal to the population variance divided by the sample size ((\\sigma^2/n))."
   ]
  },
  {
   "cell_type": "markdown",
   "id": "b56ae81d-57c8-4bf7-adc1-7c07a2b94afd",
   "metadata": {},
   "source": [
    "Question8: Compare z-scores and t-scores. When should you use a z-score, and when should a t-score be a\n",
    "\n",
    "pplied instead?"
   ]
  },
  {
   "cell_type": "markdown",
   "id": "b206d9de-d09d-4c22-9ae8-798dbfa9e19a",
   "metadata": {},
   "source": [
    "Z-scores\n",
    "\n",
    "Definition:\n",
    "A z-score measures how many standard deviations a data point is from the mean of a population. It is calculated using the formula: [ z = \\frac{(X - \\mu)}{\\sigma} ] where:\n",
    "\n",
    "(X) is the value of the observation,\n",
    "(\\mu) is the population mean,\n",
    "(\\sigma) is the population standard deviation.\n",
    "1.Population Parameters: Z-scores are used when the population mean and population standard deviation are known.\n",
    "\n",
    "2.Sample Size: Z-scores are typically used when the sample size is large (usually (n \\geq 30)), due to the Central Limit Theorem, which states that the sampling distribution of the sample mean will be approximately normal regardless of the shape of the population distribution.\n",
    "\n",
    "3.Distribution: Z-scores assume that the underlying data follows a normal distribution.\n",
    "\n",
    "4.Use Cases: Z-scores are commonly used in hypothesis testing, confidence intervals, and when comparing data points to a known population.\n"
   ]
  },
  {
   "cell_type": "markdown",
   "id": "0f4d2ef9-78d0-40f7-b03b-0263da9763ed",
   "metadata": {},
   "source": [
    "T-scores\n",
    "\n",
    "Definition:\n",
    "A t-score measures how many standard deviations a data point is from the mean of a sample. It is calculated using the formula: [ t = \\frac{(X - \\bar{X})}{s / \\sqrt{n}} ] where:\n",
    "\n",
    "(X) is the value of the observation,\n",
    "(\\bar{X}) is the sample mean,\n",
    "(s) is the sample standard deviation,\n",
    "(n) is the sample size.\n",
    "1.Sample Parameters: T-scores are used when the population parameters (mean and standard deviation) are unknown, and the sample standard deviation is used instead.\n",
    "\n",
    "\n",
    "2.Sample Size: T-scores are typically used when the sample size is small (usually (n < 30)). However, they can also be used for larger samples when the population standard deviation is unknown.\n",
    "\n",
    "\n",
    "3.Distribution: T-scores follow the t-distribution, which is similar to the normal distribution but has heavier tails. This accounts for the additional uncertainty introduced by estimating the population standard deviation from a small sample.\n",
    "\n",
    "\n",
    "4.Use Cases: T-scores are commonly used in hypothesis testing (especially for small samples), constructing confidence intervals for the mean, and when the population standard deviation is unknown."
   ]
  },
  {
   "cell_type": "markdown",
   "id": "aa6f5298-e80e-4147-9976-671d9d76f1ec",
   "metadata": {},
   "source": [
    "Question9: Given a sample mean of 105, a population mean of 100, a standard deviation of 15, and a sample\n",
    "size of 25, calculate the z-score and p-value. Based on a significance level of 0.05, do you reject or fail to\n",
    "reject the null hypothesis?\n",
    "\n",
    " Task: Write Python code to calculate the z-score and p-value for the given data.\n",
    "\n",
    "Objective: Apply the formula for the z-score and interpret the p-value for hypothesis testing."
   ]
  },
  {
   "cell_type": "code",
   "execution_count": 2,
   "id": "d14dee71-6689-48f7-9555-f4f5c38765d3",
   "metadata": {},
   "outputs": [
    {
     "name": "stdout",
     "output_type": "stream",
     "text": [
      "Z-score: 1.6667\n",
      "P-value: 0.0956\n",
      "Fail to reject the null hypothesis.\n"
     ]
    }
   ],
   "source": [
    "import scipy.stats as stats\n",
    "import numpy as np\n",
    "\n",
    "# Given data\n",
    "sample_mean = 105\n",
    "population_mean = 100\n",
    "std_dev = 15\n",
    "sample_size = 25\n",
    "alpha = 0.05  # significance level\n",
    "\n",
    "# Calculate the z-score\n",
    "z_score = (sample_mean - population_mean) / (std_dev / np.sqrt(sample_size))\n",
    "\n",
    "# Calculate the p-value (two-tailed)\n",
    "p_value = 2 * (1 - stats.norm.cdf(abs(z_score)))\n",
    "\n",
    "# Output the results\n",
    "print(f\"Z-score: {z_score:.4f}\")\n",
    "print(f\"P-value: {p_value:.4f}\")\n",
    "\n",
    "# Decision based on p-value\n",
    "if p_value < alpha:\n",
    "    print(\"Reject the null hypothesis.\")\n",
    "else:\n",
    "    print(\"Fail to reject the null hypothesis.\")"
   ]
  },
  {
   "cell_type": "markdown",
   "id": "13ef3a77-ffef-47ef-84c4-d23ca0b7909b",
   "metadata": {},
   "source": [
    "Explanation of the Code:\n",
    "\n",
    "We import the necessary libraries: scipy.stats for statistical functions and numpy for numerical operations.\n",
    "\n",
    "We define the given values: sample mean, population mean, standard deviation, sample size, and significance level.\n",
    "\n",
    "We calculate the z-score using the formula provided.\n",
    "\n",
    "We calculate the p-value using the cumulative distribution function (CDF) for the standard normal distribution. Since this is a two-tailed test, we multiply the one-tailed p-value by 2.\n",
    "\n",
    "Finally, we print the z-score and p-value, and we make a decision about the null hypothesis based on the p-value compared to the significance level."
   ]
  },
  {
   "cell_type": "markdown",
   "id": "101c3980-b99a-4aa5-80b8-393c3f43bdd1",
   "metadata": {},
   "source": [
    "Question10: Simulate a binomial distribution with 10 trials and a probability of success of 0.6 using Python.\n",
    "Generate 1,000 samples and plot the distribution. What is the expected mean and variance?\n",
    "\n",
    "Task: Use Python to generate the data, plot the distribution, and calculate the mean and variance.\n",
    "\n",
    "Objective: Understand the properties of a binomial distribution and verify them through simulation."
   ]
  },
  {
   "cell_type": "code",
   "execution_count": 3,
   "id": "75c2413b-6abc-40b3-8b30-c43a8c41c45f",
   "metadata": {},
   "outputs": [
    {
     "data": {
      "image/png": "[encoded data removed]",
      "text/plain": [
       "<Figure size 1000x600 with 1 Axes>"
      ]
     },
     "metadata": {},
     "output_type": "display_data"
    },
    {
     "name": "stdout",
     "output_type": "stream",
     "text": [
      "Expected Mean: 6.00\n",
      "Expected Variance: 2.40\n"
     ]
    }
   ],
   "source": [
    "import numpy as np\n",
    "import matplotlib.pyplot as plt\n",
    "import seaborn as sns\n",
    "\n",
    "# Parameters for the binomial distribution\n",
    "n = 10  # number of trials\n",
    "p = 0.6  # probability of success\n",
    "num_samples = 1000  # number of samples\n",
    "\n",
    "# Generate binomial distribution samples\n",
    "samples = np.random.binomial(n, p, num_samples)\n",
    "\n",
    "# Calculate expected mean and variance\n",
    "expected_mean = n * p\n",
    "expected_variance = n * p * (1 - p)\n",
    "\n",
    "# Plot the distribution\n",
    "plt.figure(figsize=(10, 6))\n",
    "sns.histplot(samples, bins=np.arange(-0.5, n + 1.5, 1), kde=False, stat=\"density\")\n",
    "plt.title('Binomial Distribution (n=10, p=0.6)')\n",
    "plt.xlabel('Number of Successes')\n",
    "plt.ylabel('Density')\n",
    "plt.xticks(range(n + 1))\n",
    "plt.grid(axis='y')\n",
    "plt.show()\n",
    "\n",
    "# Output the expected mean and variance\n",
    "print(f\"Expected Mean: {expected_mean:.2f}\")\n",
    "print(f\"Expected Variance: {expected_variance:.2f}\")"
   ]
  },
  {
   "cell_type": "code",
   "execution_count": null,
   "id": "d894452f-73d2-48f0-b7ad-ced3e93ed753",
   "metadata": {},
   "outputs": [],
   "source": []
  }
 ],
 "metadata": {
  "kernelspec": {
   "display_name": "Python 3 (ipykernel)",
   "language": "python",
   "name": "python3"
  },
  "language_info": {
   "codemirror_mode": {
    "name": "ipython",
    "version": 3
   },
   "file_extension": ".py",
   "mimetype": "text/x-python",
   "name": "python",
   "nbconvert_exporter": "python",
   "pygments_lexer": "ipython3",
   "version": "3.13.0"
  }
 },
 "nbformat": 4,
 "nbformat_minor": 5
}
